{
 "cells": [
  {
   "cell_type": "markdown",
   "metadata": {},
   "source": [
    "Logging performance metrics"
   ]
  },
  {
   "cell_type": "code",
   "execution_count": 1,
   "metadata": {},
   "outputs": [],
   "source": [
    "from import_data import *\n",
    "from noise_models import *\n",
    "from neural_network_basic import *\n",
    "from Branch_flow_xy_split import *\n",
    "# from generate_xy import *\n",
    "import numpy as np\n",
    "import matplotlib.pyplot as plt\n",
    "# from volt_to_p_est import *\n",
    "# from VI_to_P import *\n",
    "# from linear_models import *\n",
    "from feature_bins import std_bins_bflow\n",
    "from IPython.display import clear_output\n",
    "\n",
    "#%% importing single hour imag dataset\n",
    "VR, VI, bflow, Pinj, Qinj, CFR, CFI, CTR, CTI = import_curr_branch_data()"
   ]
  },
  {
   "cell_type": "code",
   "execution_count": 2,
   "metadata": {},
   "outputs": [],
   "source": [
    "def data(addbus=[], output = \"vi_all\"):\n",
    "#%% Getting X and Y \n",
    "    x_vr, x_vi, x_cr, x_ci,  ytot = Branch_flow_custom_xy_split(bflow, VR, VI, CFR, CFI, CTR, CTI, Pinj, Qinj, output = output,  num_bus = 11, add_bus = addbus)\n",
    "    #%% Adding noise \n",
    "    x_vr_n, x_vi_n = GMM_real_imag(x_vr, x_vi)\n",
    "    x_cr_n, x_ci_n = GMM_real_imag(x_cr, x_ci)\n",
    "    # bflow_n = noise_gaussian(X, range1, mu1)\n",
    "    # bflow_n = NoisyMag(x_bflow.values)\n",
    " \n",
    "\n",
    "    # X_p = VI_to_P(x_vm_n, x_va_n, x_cm_n, x_ca_n, num_bus = 11, add_bus = [])\n",
    "    X_v = np.concatenate((x_vr_n, x_vi_n, x_cr_n, x_ci_n), axis=1)\n",
    "    Y_p = ytot\n",
    "    return X_v, Y_p"
   ]
  },
  {
   "cell_type": "code",
   "execution_count": 33,
   "metadata": {},
   "outputs": [
    {
     "data": {
      "text/plain": [
       "4.744218677733563"
      ]
     },
     "execution_count": 33,
     "metadata": {},
     "output_type": "execute_result"
    }
   ],
   "source": [
    "X_v, Y_p = data([], \"powers\")\n",
    "dnn = Deep_Network(layers=3, nodes=int(X_v.shape[1]*1.25), lr = 1e-3, epoch = 100,\n",
    "                   batch_norm = True, dropout = 0)\n",
    "\n",
    "# dnn.y_normalise = True\n",
    "mse, mape, r2 = dnn.model_parse(X_v,Y_p,Pinj, Qinj, ntest=1)\n",
    "clear_output()\n",
    "np.mean(np.sqrt(mse))"
   ]
  },
  {
   "cell_type": "code",
   "execution_count": 34,
   "metadata": {},
   "outputs": [
    {
     "data": {
      "text/plain": [
       "490"
      ]
     },
     "execution_count": 34,
     "metadata": {},
     "output_type": "execute_result"
    }
   ],
   "source": [
    "len(mse[0])"
   ]
  },
  {
   "cell_type": "code",
   "execution_count": 17,
   "metadata": {},
   "outputs": [
    {
     "data": {
      "text/plain": [
       "0.41784353541119745"
      ]
     },
     "execution_count": 17,
     "metadata": {},
     "output_type": "execute_result"
    }
   ],
   "source": [
    "np.median(r2[0])"
   ]
  },
  {
   "cell_type": "code",
   "execution_count": 39,
   "metadata": {},
   "outputs": [
    {
     "name": "stdout",
     "output_type": "stream",
     "text": [
      "0 372\n",
      "mse: 4.870096957811761\n",
      "r2: 0.3509191559974188\n",
      "372 490\n",
      "mse: 8.46496754206307\n",
      "r2: 0.11384124675732854\n"
     ]
    }
   ],
   "source": [
    "# lengths = [118,118, 186, 186, 186, 186]\n",
    "lengths = [186*2, 118]\n",
    "filtered_r2 = [x if -1 <= x <= 1 else 0 for x in r2[0]]\n",
    "for i in range(len(lengths)):\n",
    "    start = sum(lengths[:i])\n",
    "    end = sum(lengths[:i+1])\n",
    "    print(sum(lengths[:i]), sum(lengths[:i+1]))\n",
    "    print(\"mse:\", np.sqrt(np.mean(mse[0][  start:end])))\n",
    "    print(\"r2:\", np.mean(filtered_r2[  start:end]))"
   ]
  },
  {
   "cell_type": "markdown",
   "metadata": {},
   "source": [
    "Legacy code, convert mag and ang to real and imaginary"
   ]
  },
  {
   "cell_type": "code",
   "execution_count": 4,
   "metadata": {},
   "outputs": [],
   "source": [
    "# import numpy as np\n",
    "\n",
    "\n",
    "# def polar_to_complex(magnitude_array, angle_array_degrees):\n",
    "#     # Convert angle from degrees to radians\n",
    "#     angle_array_radians = np.radians(angle_array_degrees)\n",
    "\n",
    "#     # Calculate real and imaginary components\n",
    "#     real_part = magnitude_array * np.cos(angle_array_radians)\n",
    "#     imaginary_part = magnitude_array * np.sin(angle_array_radians)\n",
    "\n",
    "#     return real_part, imaginary_part\n",
    "\n",
    "# VR, VI = polar_to_complex(VM, VA)\n",
    " \n",
    "# CFR, CFI = polar_to_complex(CFM, CFA)\n",
    "# CTR, CTI = polar_to_complex(CTM, CTA)\n",
    "\n",
    "\n",
    "# np.savetxt(\"dataset_pf_corrected\\V_real.csv\", VR, delimiter=',')\n",
    "# np.savetxt(\"dataset_pf_corrected\\V_imag.csv\", VI, delimiter=',')\n",
    "# np.savetxt(\"dataset_pf_corrected\\CF_real.csv\", CFR, delimiter=',')\n",
    "# np.savetxt(\"dataset_pf_corrected\\CF_imag.csv\", CFI, delimiter=',')\n",
    "# np.savetxt(\"dataset_pf_corrected\\CT_real.csv\", CTR, delimiter=',')\n",
    "# np.savetxt(\"dataset_pf_corrected\\CT_imag.csv\", CTI, delimiter=',')"
   ]
  }
 ],
 "metadata": {
  "kernelspec": {
   "display_name": "Python 3",
   "language": "python",
   "name": "python3"
  },
  "language_info": {
   "codemirror_mode": {
    "name": "ipython",
    "version": 3
   },
   "file_extension": ".py",
   "mimetype": "text/x-python",
   "name": "python",
   "nbconvert_exporter": "python",
   "pygments_lexer": "ipython3",
   "version": "3.10.4"
  },
  "orig_nbformat": 4
 },
 "nbformat": 4,
 "nbformat_minor": 2
}
