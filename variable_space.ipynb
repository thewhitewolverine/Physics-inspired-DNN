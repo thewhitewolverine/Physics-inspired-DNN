{
 "cells": [
  {
   "cell_type": "markdown",
   "metadata": {},
   "source": [
    "Calculate current from voltage and line parameters"
   ]
  },
  {
   "cell_type": "code",
   "execution_count": 1,
   "metadata": {},
   "outputs": [],
   "source": [
    "import numpy as np\n",
    "\n",
    "bdata = np.genfromtxt(\"System_data/bdata.csv\", delimiter=\",\")\n"
   ]
  },
  {
   "cell_type": "code",
   "execution_count": 2,
   "metadata": {},
   "outputs": [],
   "source": [
    "vr = np.genfromtxt(\"dataset_pf_corrected/V_real.csv\", delimiter=\",\")\n",
    "vi = np.genfromtxt(\"dataset_pf_corrected/V_imag.csv\", delimiter=\",\")\n",
    "\n",
    "cfr = np.genfromtxt(\"dataset_pf_corrected/CF_real.csv\", delimiter=\",\")\n",
    "cfi = np.genfromtxt(\"dataset_pf_corrected/CF_imag.csv\", delimiter=\",\")\n",
    "\n",
    "ctr = np.genfromtxt(\"dataset_pf_corrected/CT_real.csv\", delimiter=\",\")\n",
    "cti = np.genfromtxt(\"dataset_pf_corrected/CT_imag.csv\", delimiter=\",\")\n"
   ]
  },
  {
   "cell_type": "code",
   "execution_count": 3,
   "metadata": {},
   "outputs": [],
   "source": [
    "cfr_vr_matrix  = np.zeros((vr.shape[1], cfr.shape[1]))\n",
    "cfr_vi_matrix  = np.zeros((vr.shape[1], cfr.shape[1]))\n",
    "\n",
    "cfi_vr_matrix  = np.zeros((vr.shape[1], cfr.shape[1]))\n",
    "cfi_vi_matrix  = np.zeros((vr.shape[1], cfr.shape[1]))\n",
    "\n",
    "ctr_vr_matrix  = np.zeros((vr.shape[1], cfr.shape[1]))\n",
    "ctr_vi_matrix  = np.zeros((vr.shape[1], cfr.shape[1]))\n",
    "\n",
    "cti_vr_matrix  = np.zeros((vr.shape[1], cfr.shape[1]))\n",
    "cti_vi_matrix  = np.zeros((vr.shape[1], cfr.shape[1]))\n",
    "\n",
    "for idx,branch in enumerate(bdata):\n",
    "    fbus = int(branch[0])-1\n",
    "    tbus = int(branch[1])-1\n",
    "    R = branch[2]\n",
    "    X = branch[3]\n",
    "    B = branch[4]\n",
    "    TAU = branch[5]\n",
    "\n",
    "    AR = R/(TAU**2 *(R**2 + X**2))\n",
    "    AI = B/(2*TAU**2) - X/(TAU**2 *(R**2 + X**2))\n",
    "\n",
    "    BR = -R/(TAU*(R**2 + X**2))\n",
    "    BI = X/(TAU*(R**2 + X**2))\n",
    "\n",
    "    DR = R/(R**2 + X**2)\n",
    "    DI = B/2 - X/(R**2 + X**2)\n",
    "\n",
    "\n",
    "    cfr_vr_matrix[fbus,idx] = AR\n",
    "    cfr_vr_matrix[tbus,idx] = BR\n",
    "\n",
    "    cfr_vi_matrix[fbus,idx] = -AI\n",
    "    cfr_vi_matrix[tbus,idx] = -BI\n",
    "\n",
    "    cfi_vr_matrix[fbus,idx] = AI\n",
    "    cfi_vr_matrix[tbus,idx] = BI\n",
    "\n",
    "    cfi_vi_matrix[fbus,idx] = AR\n",
    "    cfi_vi_matrix[tbus,idx] = BR\n",
    "\n",
    "\n",
    "\n",
    "    ctr_vr_matrix[fbus,idx] = BR\n",
    "    ctr_vr_matrix[tbus,idx] = DR\n",
    "\n",
    "    ctr_vi_matrix[fbus,idx] = -BI\n",
    "    ctr_vi_matrix[tbus,idx] = -DI\n",
    "\n",
    "    cti_vr_matrix[fbus,idx] = BI\n",
    "    cti_vr_matrix[tbus,idx] = DI\n",
    "\n",
    "    cti_vi_matrix[fbus,idx] = BR\n",
    "    cti_vi_matrix[tbus,idx] = DR\n"
   ]
  },
  {
   "cell_type": "code",
   "execution_count": 4,
   "metadata": {},
   "outputs": [
    {
     "name": "stdout",
     "output_type": "stream",
     "text": [
      "-1.2504441739823733e-15\n"
     ]
    }
   ],
   "source": [
    "vr_q = vr[0,:]\n",
    "vi_q = vi[0,:]\n",
    "\n",
    "cfr_a = cfr[0,:]\n",
    "cfi_a = cfi[0,:]\n",
    "\n",
    "ctr_a = ctr[0,:]\n",
    "cti_a = cti[0,:]\n",
    "\n",
    "from variable_space import current_from_voltage\n",
    "\n",
    "a,b,c,d = current_from_voltage(vr_q, vi_q, bdata)\n",
    "\n",
    "# ctr_hat = np.matmul(vr_q.T, ctr_vr_matrix) + np.matmul(vi_q.T, ctr_vi_matrix)\n",
    "print(np.mean(a - cfr_a))"
   ]
  },
  {
   "cell_type": "code",
   "execution_count": 5,
   "metadata": {},
   "outputs": [
    {
     "data": {
      "text/plain": [
       "array([3, 8])"
      ]
     },
     "execution_count": 5,
     "metadata": {},
     "output_type": "execute_result"
    }
   ],
   "source": [
    "a = np.array([1,2])\n",
    "b= np.array([3,4])\n",
    "\n",
    "a*b"
   ]
  },
  {
   "cell_type": "markdown",
   "metadata": {},
   "source": [
    "For every branch,\n",
    "$$P_f = v_f^r i^r_f + v^i_f i^i_f$$\n",
    "$$P_t = v_t^r i^r_t + v^i_t i^i_t$$\n"
   ]
  },
  {
   "cell_type": "markdown",
   "metadata": {},
   "source": [
    "$$P_f = (A V_r)(B C^f_r)+ (C V_i)(D C^f_i)$$ "
   ]
  },
  {
   "cell_type": "code",
   "execution_count": 6,
   "metadata": {},
   "outputs": [],
   "source": [
    "pf_v_matrix = np.zeros((vr.shape[1], cfr.shape[1]))\n",
    "pt_v_matrix = np.zeros((vr.shape[1], cfr.shape[1]))\n",
    "for idx, branch in enumerate(bdata):\n",
    "    fbus = int(branch[0])-1\n",
    "    tbus = int(branch[1])-1\n",
    "    pf_v_matrix[fbus,idx] = 1\n",
    "    pt_v_matrix[tbus, idx] = 1\n",
    "\n",
    " "
   ]
  },
  {
   "cell_type": "code",
   "execution_count": 7,
   "metadata": {},
   "outputs": [],
   "source": [
    "vr_test = vr[0,:]\n",
    "vi_test = vi[0,:]\n",
    "cfr_test = cfr[0,:]\n",
    "cfi_test = cfi[0,:]\n",
    "ctr_test = ctr[0,:]\n",
    "cti_test = cti[0,:]\n",
    "\n",
    "pf_hat = np.matmul(vr_test, pf_v_matrix)* cfr_test*100 + np.matmul(vi_test, pf_v_matrix)*cfi_test*100\n",
    "pt_hat = np.matmul(vr_test, pt_v_matrix)* ctr_test*100 + np.matmul(vi_test, pt_v_matrix)*cti_test*100\n"
   ]
  },
  {
   "cell_type": "code",
   "execution_count": 8,
   "metadata": {},
   "outputs": [],
   "source": [
    "np.savetxt(\"System_data\\pf_v_matrix.csv\", pf_v_matrix, delimiter= ',')\n",
    "np.savetxt(\"System_data\\pt_v_matrix.csv\", pt_v_matrix, delimiter= ',')\n"
   ]
  },
  {
   "cell_type": "code",
   "execution_count": 9,
   "metadata": {},
   "outputs": [
    {
     "data": {
      "text/plain": [
       "(372, 118)"
      ]
     },
     "execution_count": 9,
     "metadata": {},
     "output_type": "execute_result"
    }
   ],
   "source": [
    "from final_layer_weights import final_layer_weights_reordered\n",
    "\n",
    "weights = final_layer_weights_reordered()\n",
    "weights.shape"
   ]
  },
  {
   "cell_type": "code",
   "execution_count": 10,
   "metadata": {},
   "outputs": [
    {
     "data": {
      "text/plain": [
       "(372,)"
      ]
     },
     "execution_count": 10,
     "metadata": {},
     "output_type": "execute_result"
    }
   ],
   "source": [
    "Pflow = np.hstack([pf_hat, pt_hat])\n",
    "Pflow.shape"
   ]
  },
  {
   "cell_type": "code",
   "execution_count": 11,
   "metadata": {},
   "outputs": [
    {
     "data": {
      "text/plain": [
       "array([-2.24193705e+01, -1.70820000e+01, -3.55250000e+01, -3.84629670e+01,\n",
       "        2.52333621e-09, -4.43193430e+01, -2.44660000e+01, -4.07019733e+01,\n",
       "        8.66800178e-08,  4.06303553e+02, -8.22529999e+01,  4.59903053e+01,\n",
       "       -2.65819999e+01, -1.25009999e+01, -7.60186706e+01, -2.66069998e+01,\n",
       "       -9.37179805e+00, -3.70419368e+01, -2.43962574e+01, -1.87399999e+01,\n",
       "       -1.54240000e+01, -1.00230001e+01, -9.39090007e+00, -1.76559655e+01,\n",
       "        1.96016013e+02,  2.82850898e+02, -6.49648946e+01, -1.87249999e+01,\n",
       "       -3.34179999e+01,  6.95595020e-07, -2.07376475e+01, -2.73405942e+01,\n",
       "       -2.10149997e+01, -5.08450941e+01, -4.15669999e+01, -1.29512536e+01,\n",
       "        3.10728183e-07,  3.01105764e-07, -2.40760000e+01, -3.31301621e+01,\n",
       "       -2.95310000e+01, -5.20501223e+01, -1.65240000e+01, -1.73600000e+01,\n",
       "       -6.10600000e+01, -1.01179725e+01, -3.52550000e+01, -9.40450000e+00,\n",
       "        1.01115110e+02, -1.72150000e+01, -2.62490000e+01, -1.42480000e+01,\n",
       "       -2.00660000e+01, -1.04608027e+02, -1.44634736e+00, -4.15209313e+01,\n",
       "       -1.18980000e+01, -1.58560000e+01, -1.30595160e+02, -8.37450000e+01,\n",
       "        1.50052479e+02, -7.67429864e+01,  9.24435994e-09,  9.84145743e-08,\n",
       "        3.55966469e+02,  3.13809992e+02, -1.10970000e+01,  1.45963719e-06,\n",
       "        4.58948497e+02, -9.18509066e+01, -6.19523704e-07, -8.35195114e+00,\n",
       "       -3.01869747e-01, -4.56193192e+01, -4.33469998e+01, -4.97219454e+01,\n",
       "       -4.85539828e+01, -8.74779988e+01, -2.51299992e+01,  2.75442553e+02,\n",
       "        1.81715021e-06, -4.49109993e+01, -2.79349997e+01, -7.82619986e+00,\n",
       "       -1.63339938e+01, -1.82509980e+01,  3.42366076e+00, -3.28970000e+01,\n",
       "        4.74149704e+02, -1.10639995e+02, -8.69479523e+00, -4.84689944e+01,\n",
       "       -7.51259990e+00, -3.16239992e+01, -2.68889996e+01, -4.35519993e+01,\n",
       "       -1.03209996e+01, -5.95729983e+01, -4.32529892e+01,  1.99760012e+02,\n",
       "       -3.01389994e+01, -6.07109989e+00,  1.81333704e+01, -4.44149482e+01,\n",
       "       -2.50077984e+01, -3.54519990e+01, -2.97164756e+01, -1.99019995e+00,\n",
       "       -5.94409985e+00, -4.14766881e+01,  3.50672577e+01, -2.92011944e+01,\n",
       "       -6.12586160e+00, -1.30020000e+01, -2.87789999e+01, -2.19979992e+02,\n",
       "       -2.90870000e+01, -2.75599999e+01])"
      ]
     },
     "execution_count": 11,
     "metadata": {},
     "output_type": "execute_result"
    }
   ],
   "source": [
    "Pinj = np.matmul(Pflow.T,weights )\n",
    "\n",
    "Pinj"
   ]
  }
 ],
 "metadata": {
  "kernelspec": {
   "display_name": "Python 3",
   "language": "python",
   "name": "python3"
  },
  "language_info": {
   "codemirror_mode": {
    "name": "ipython",
    "version": 3
   },
   "file_extension": ".py",
   "mimetype": "text/x-python",
   "name": "python",
   "nbconvert_exporter": "python",
   "pygments_lexer": "ipython3",
   "version": "3.10.4"
  }
 },
 "nbformat": 4,
 "nbformat_minor": 2
}
