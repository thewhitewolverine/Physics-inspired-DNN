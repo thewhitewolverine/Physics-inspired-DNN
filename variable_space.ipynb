{
 "cells": [
  {
   "cell_type": "markdown",
   "metadata": {},
   "source": [
    "Calculate current from voltage and line parameters"
   ]
  },
  {
   "cell_type": "code",
   "execution_count": 4,
   "metadata": {},
   "outputs": [],
   "source": [
    "import numpy as np\n",
    "\n",
    "bdata = np.genfromtxt(\"System_data/bdata.csv\", delimiter=\",\")\n"
   ]
  },
  {
   "cell_type": "code",
   "execution_count": 7,
   "metadata": {},
   "outputs": [],
   "source": [
    "vr = np.genfromtxt(\"dataset_pf_corrected/V_real.csv\", delimiter=\",\")\n",
    "vi = np.genfromtxt(\"dataset_pf_corrected/V_imag.csv\", delimiter=\",\")\n",
    "\n",
    "cfr = np.genfromtxt(\"dataset_pf_corrected/CF_real.csv\", delimiter=\",\")\n",
    "cfi = np.genfromtxt(\"dataset_pf_corrected/CF_imag.csv\", delimiter=\",\")\n",
    "\n",
    "ctr = np.genfromtxt(\"dataset_pf_corrected/CT_real.csv\", delimiter=\",\")\n",
    "cti = np.genfromtxt(\"dataset_pf_corrected/CT_imag.csv\", delimiter=\",\")\n"
   ]
  },
  {
   "cell_type": "code",
   "execution_count": 20,
   "metadata": {},
   "outputs": [],
   "source": [
    "cfr_vr_matrix  = np.zeros((vr.shape[1], cfr.shape[1]))\n",
    "cfr_vi_matrix  = np.zeros((vr.shape[1], cfr.shape[1]))\n",
    "\n",
    "cfi_vr_matrix  = np.zeros((vr.shape[1], cfr.shape[1]))\n",
    "cfi_vi_matrix  = np.zeros((vr.shape[1], cfr.shape[1]))\n",
    "\n",
    "ctr_vr_matrix  = np.zeros((vr.shape[1], cfr.shape[1]))\n",
    "ctr_vi_matrix  = np.zeros((vr.shape[1], cfr.shape[1]))\n",
    "\n",
    "cti_vr_matrix  = np.zeros((vr.shape[1], cfr.shape[1]))\n",
    "cti_vi_matrix  = np.zeros((vr.shape[1], cfr.shape[1]))\n",
    "\n",
    "for idx,branch in enumerate(bdata):\n",
    "    fbus = int(branch[0])-1\n",
    "    tbus = int(branch[1])-1\n",
    "    R = branch[2]\n",
    "    X = branch[3]\n",
    "    B = branch[4]\n",
    "    TAU = branch[5]\n",
    "\n",
    "    AR = R/(TAU**2 *(R**2 + X**2))\n",
    "    AI = B/(2*TAU**2) - X/(TAU**2 *(R**2 + X**2))\n",
    "\n",
    "    BR = -R/(TAU*(R**2 + X**2))\n",
    "    BI = X/(TAU*(R**2 + X**2))\n",
    "\n",
    "    DR = R/(R**2 + X**2)\n",
    "    DI = B/2 - X/(R**2 + X**2)\n",
    "\n",
    "\n",
    "    cfr_vr_matrix[fbus,idx] = AR\n",
    "    cfr_vr_matrix[tbus,idx] = BR\n",
    "\n",
    "    cfr_vi_matrix[fbus,idx] = -AI\n",
    "    cfr_vi_matrix[tbus,idx] = -BI\n",
    "\n",
    "    cfi_vr_matrix[fbus,idx] = AI\n",
    "    cfi_vr_matrix[tbus,idx] = BI\n",
    "\n",
    "    cfi_vi_matrix[fbus,idx] = AR\n",
    "    cfi_vi_matrix[tbus,idx] = BR\n",
    "\n",
    "\n",
    "\n",
    "    ctr_vr_matrix[fbus,idx] = BR\n",
    "    ctr_vr_matrix[tbus,idx] = DR\n",
    "\n",
    "    ctr_vi_matrix[fbus,idx] = -BI\n",
    "    ctr_vi_matrix[tbus,idx] = -DI\n",
    "\n",
    "    cti_vr_matrix[fbus,idx] = BI\n",
    "    cti_vr_matrix[tbus,idx] = DI\n",
    "\n",
    "    cti_vi_matrix[fbus,idx] = BR\n",
    "    cti_vi_matrix[tbus,idx] = DR\n"
   ]
  },
  {
   "cell_type": "code",
   "execution_count": 25,
   "metadata": {},
   "outputs": [
    {
     "data": {
      "text/plain": [
       "(186, 118)"
      ]
     },
     "execution_count": 25,
     "metadata": {},
     "output_type": "execute_result"
    }
   ],
   "source": [
    "cfr_vr_matrix.T.shape"
   ]
  },
  {
   "cell_type": "code",
   "execution_count": 32,
   "metadata": {},
   "outputs": [
    {
     "name": "stdout",
     "output_type": "stream",
     "text": [
      "-9.755779386991208e-16\n"
     ]
    }
   ],
   "source": [
    "vr_q = vr[0,:]\n",
    "vi_q = vi[0,:]\n",
    "\n",
    "cfr_a = cfr[0,:]\n",
    "cfi_a = cfi[0,:]\n",
    "\n",
    "ctr_a = ctr[0,:]\n",
    "cti_a = cti[0,:]\n",
    "\n",
    "ctr_hat = np.matmul(vr_q.T, ctr_vr_matrix) + np.matmul(vi_q.T, ctr_vi_matrix)\n",
    "print(np.mean(ctr_a - ctr_hat))"
   ]
  }
 ],
 "metadata": {
  "kernelspec": {
   "display_name": "Python 3",
   "language": "python",
   "name": "python3"
  },
  "language_info": {
   "codemirror_mode": {
    "name": "ipython",
    "version": 3
   },
   "file_extension": ".py",
   "mimetype": "text/x-python",
   "name": "python",
   "nbconvert_exporter": "python",
   "pygments_lexer": "ipython3",
   "version": "3.10.4"
  }
 },
 "nbformat": 4,
 "nbformat_minor": 2
}
