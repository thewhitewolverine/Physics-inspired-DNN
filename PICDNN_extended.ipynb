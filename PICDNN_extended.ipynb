{
 "cells": [
  {
   "cell_type": "code",
   "execution_count": 1,
   "metadata": {},
   "outputs": [],
   "source": [
    "from import_data import *\n",
    "from noise_models import *\n",
    "from PICDNN_extended import *\n",
    "from Branch_flow_xy_split import *\n",
    "# from generate_xy import *\n",
    "import numpy as np\n",
    "import matplotlib.pyplot as plt\n",
    "# from volt_to_p_est import *\n",
    "# from VI_to_P import *\n",
    "# from linear_models import *\n",
    "from feature_bins import std_bins_bflow\n",
    "from IPython.display import clear_output\n",
    "import matplotlib.pyplot as plt\n",
    "#%% importing single hour imag dataset\n",
    "VR, VI, bflow, Pinj, Qinj, CFR, CFI, CTR, CTI = import_curr_branch_data()"
   ]
  },
  {
   "cell_type": "code",
   "execution_count": 2,
   "metadata": {},
   "outputs": [],
   "source": [
    "def data(addbus=[], output = \"vi_all\"):\n",
    "#%% Getting X and Y \n",
    "    x_vr, x_vi, x_cr, x_ci,  ytot = Branch_flow_custom_xy_split(bflow, VR, VI, CFR, CFI, CTR, CTI, Pinj, Qinj, output = output,  num_bus = 11, add_bus = addbus)\n",
    "    #%% Adding noise \n",
    "    x_vr_n, x_vi_n = GMM_real_imag(x_vr, x_vi)\n",
    "    x_cr_n, x_ci_n = GMM_real_imag(x_cr, x_ci)\n",
    "    # bflow_n = noise_gaussian(X, range1, mu1)\n",
    "    # bflow_n = NoisyMag(x_bflow.values)\n",
    " \n",
    "\n",
    "    # X_p = VI_to_P(x_vm_n, x_va_n, x_cm_n, x_ca_n, num_bus = 11, add_bus = [])\n",
    "    X_v = np.concatenate((x_vr_n, x_vi_n, x_cr_n, x_ci_n), axis=1)\n",
    "    Y_p = ytot\n",
    "    return X_v, Y_p"
   ]
  },
  {
   "cell_type": "code",
   "execution_count": 3,
   "metadata": {},
   "outputs": [],
   "source": [
    "bdata = np.genfromtxt(r\"System_data\\bdata.csv\", delimiter=',')"
   ]
  },
  {
   "cell_type": "code",
   "execution_count": 4,
   "metadata": {},
   "outputs": [],
   "source": [
    "def one_run(add_bus):\n",
    "    X_v, Y_p = data(add_bus, 'vi_all')\n",
    "    dnn = Deep_Network(layers=5, nodes=int(X_v.shape[1]*1.25), lr = 1e-4, epoch = 200,\n",
    "                    batch_norm = True, dropout = 0)\n",
    "    # dnn.y_normalise = True\n",
    "    dnn.loss = \"mse\"\n",
    "    mse, mape, r2 = dnn.model_parse(X_v,Y_p,Pinj, Qinj, ntest=1)\n",
    "    return X_v, Y_p, dnn, mse, mape, r2\n",
    "\n"
   ]
  },
  {
   "cell_type": "code",
   "execution_count": 5,
   "metadata": {},
   "outputs": [],
   "source": [
    "def create_A_array(bdata, n_buses):\n",
    "    n = bdata.shape[0]\n",
    "    A = np.zeros((n_buses, n))\n",
    "    for i in range(n_buses):\n",
    "        for j in range(n):\n",
    "            if bdata[j, 0] == i+1:\n",
    "                A[i, j] = 1\n",
    "    return A\n",
    "\n",
    "\n",
    "def create_C_array(bdata, n_buses):\n",
    "    n = bdata.shape[0]\n",
    "    C = np.zeros((n_buses, n))\n",
    "    for i in range(n_buses):\n",
    "        for j in range(n):\n",
    "            if bdata[j, 1] == i+1:\n",
    "                C[i, j] = 1\n",
    "    return C\n",
    "\n",
    "def create_B_array(bdata):\n",
    "    n = bdata.shape[0]\n",
    "    B = np.zeros((n, n))\n",
    "    for i in range(n):\n",
    "        B[i, i] = 1\n",
    "    return B\n",
    "\n",
    "def power_from_vi(vars, A, B, C):\n",
    "    Pff_v1  = tf.linalg.matmul(vars[0], A)\n",
    "    Pff_v2  = tf.linalg.matmul(vars[2], B)\n",
    "    Pff_v3  = tf.linalg.matmul(vars[1], A)\n",
    "    Pff_v4  = tf.linalg.matmul(vars[3], B)\n",
    "\n",
    "    Pft_v1  = tf.linalg.matmul(vars[0], C)\n",
    "    Pft_v2  = tf.linalg.matmul(vars[4], B)\n",
    "    Pft_v3  = tf.linalg.matmul(vars[1], C)\n",
    "    Pft_v4  = tf.linalg.matmul(vars[5], B)\n",
    "\n",
    "\n",
    "    PFF = tf.multiply(tf.add(tf.multiply(Pff_v1, Pff_v2), tf.multiply(Pff_v3, Pff_v4)), 100)\n",
    "    PFT = tf.multiply(tf.add(tf.multiply(Pft_v1, Pft_v2), tf.multiply(Pft_v3, Pft_v4)), 100)\n",
    "\n",
    "    return PFF, PFT\n",
    "\n",
    "\n",
    "\n",
    "\n",
    "def get_errors(X_v, Y_p, dnn, mse, mape, r2):\n",
    "    _, x_test, _, y_test = train_test_split(X_v, Y_p, test_size=0.2)\n",
    "\n",
    "    x_test_scaled = dnn.x_scaler.transform(x_test)\n",
    "\n",
    "    yhat = tf.convert_to_tensor(dnn.model.predict(x_test), dtype=tf.float32)\n",
    "    y_test = tf.convert_to_tensor(y_test, dtype=tf.float32)\n",
    "\n",
    "\n",
    "    bdata = np.genfromtxt(r\"System_data\\bdata.csv\", delimiter=',')\n",
    "    A = tf.convert_to_tensor(create_A_array(bdata,118), dtype=tf.float32)\n",
    "    B = tf.convert_to_tensor(create_B_array(bdata), dtype=tf.float32)\n",
    "    C = tf.convert_to_tensor(create_C_array(bdata, 118), dtype=tf.float32)\n",
    "\n",
    "\n",
    "    lengths = [118, 118, 186,186,186,186] # VR, VI, CFR, CFI, CTR, CTI\n",
    "\n",
    "    sample_input = yhat\n",
    "    vars = tf.split(sample_input, lengths, axis=1)\n",
    "\n",
    "\n",
    "    vars_actual = tf.split(y_test, lengths, axis=1)\n",
    "\n",
    "    PFF_actual ,PFT_actual = power_from_vi(vars_actual, A, B, C)\n",
    "    PFF, PFT = power_from_vi(vars, A, B, C)\n",
    "\n",
    "    # Compute squared difference\n",
    "    squared_difference_PFF = tf.square(tf.subtract(PFF, PFF_actual))\n",
    "    squared_difference_PFT = tf.square(tf.subtract(PFT, PFT_actual))\n",
    "\n",
    "    # Compute mean\n",
    "    mean_squared_error_PFF = tf.reduce_mean(squared_difference_PFF)\n",
    "    mean_squared_error_PFT = tf.reduce_mean(squared_difference_PFT)\n",
    "\n",
    "    # Compute square root to get RMSE\n",
    "    rmse_PFF = tf.sqrt(mean_squared_error_PFF)\n",
    "    rmse_PFT = tf.sqrt(mean_squared_error_PFT)\n",
    "\n",
    "    # print(\"Root Mean Squared Error for PFF: \", rmse_PFF)\n",
    "    # print(\"Root Mean Squared Error for PFT: \", rmse_PFT)\n",
    "    \n",
    "    bflow_hat = reorder(PFF, PFT)\n",
    "    bflow_actual = reorder(PFF_actual, PFT_actual)\n",
    "    y = tf.linalg.matmul(bflow_actual, dnn.last_layer_weights2)\n",
    "    yhat = tf.linalg.matmul(bflow_hat, dnn.last_layer_weights2)\n",
    "    pinj_error = tf.sqrt(tf.reduce_mean((y-yhat)**2))\n",
    "    pflowerror = (rmse_PFF+rmse_PFT)/2\n",
    "    v_error1 = tf.sqrt(tf.reduce_mean((vars[0]-vars_actual[0])**2))\n",
    "    v_error2 = tf.sqrt(tf.reduce_mean((vars[1]-vars_actual[1])**2))\n",
    "    v_error = (v_error1+v_error2)/2\n",
    "    r2_filtered = [x if -1<=x<=1 else 0 for x in r2[0]]\n",
    "    np.mean(r2_filtered)\n",
    "    return v_error, pflowerror, pinj_error, r2_filtered\n",
    "\n"
   ]
  },
  {
   "cell_type": "markdown",
   "metadata": {},
   "source": [
    "Calculate power injection error"
   ]
  },
  {
   "cell_type": "markdown",
   "metadata": {},
   "source": [
    "Make loooooop"
   ]
  },
  {
   "cell_type": "code",
   "execution_count": 6,
   "metadata": {},
   "outputs": [],
   "source": [
    "add_bus =  [100, 49, 77, 89, 12, 59, 37, 32, 19, 104, 97, 67, 112, 41, 3, 94, 6, 28, 79, 13]\n",
    "\n",
    "v_error_list = []\n",
    "\n",
    "pflow_error_list = []\n",
    "pinj_error_list = []\n",
    "r2_list = []\n",
    "base_list = []\n",
    "\n",
    "for additional_bus in add_bus:\n",
    "    base_list.append(additional_bus)\n",
    "    X_v, Y_p, dnn, mse, mape, r2 = one_run(base_list)\n",
    "    v_error, pflowerror, pinj_error, r2_filtered = get_errors(X_v, Y_p, dnn, mse, mape, r2)\n",
    "    v_error_list.append(v_error)\n",
    "    pflow_error_list.append(pflowerror)\n",
    "    pinj_error_list.append(pinj_error)\n",
    "    r2_list.append(r2_filtered)\n",
    "    clear_output()"
   ]
  },
  {
   "cell_type": "code",
   "execution_count": 21,
   "metadata": {},
   "outputs": [
    {
     "data": {
      "text/plain": [
       "0.5591259159067263"
      ]
     },
     "execution_count": 21,
     "metadata": {},
     "output_type": "execute_result"
    }
   ],
   "source": [
    "np.mean(r2_list[0])"
   ]
  },
  {
   "cell_type": "code",
   "execution_count": 114,
   "metadata": {},
   "outputs": [
    {
     "data": {
      "image/png": "[encoded data removed]",
      "text/plain": [
       "<Figure size 432x288 with 1 Axes>"
      ]
     },
     "metadata": {
      "needs_background": "light"
     },
     "output_type": "display_data"
    }
   ],
   "source": [
    "bus_list = [i+12 for i in range(20)]\n",
    "plt.plot(bus_list,[np.mean(r2_list[i]) for i in range(20)], '-o')\n",
    "plt.rcParams[\"font.family\"] = \"Times New Roman\"\n",
    "plt.xticks(np.arange(12, 32, step=1))\n",
    "plt.xlabel(\"PMU locations\")\n",
    "plt.ylabel(\"R2 Score\")\n",
    "plt.grid()\n",
    "plt.title(\" Evolution of R2 Score with increase in PMU locations\")\n",
    "plt.savefig(\"Plots/R2Score.pdf\", bbox_inches = \"tight\", format=\"pdf\")"
   ]
  },
  {
   "cell_type": "code",
   "execution_count": 113,
   "metadata": {},
   "outputs": [
    {
     "data": {
      "image/png": "[encoded data removed]",
      "text/plain": [
       "<Figure size 432x288 with 2 Axes>"
      ]
     },
     "metadata": {
      "needs_background": "light"
     },
     "output_type": "display_data"
    }
   ],
   "source": [
    "bus_list = [i+12 for i in range(20)]\n",
    "\n",
    "fig, ax1 = plt.subplots()\n",
    "plt.rcParams[\"font.family\"] = \"Times New Roman\"\n",
    "ax1.plot(bus_list,[v_error_list[i] for i in range(20)], '-o', label = \"voltage\")\n",
    "ax1.tick_params('y', colors='#1f77b4')\n",
    "ax1.set_ylabel(\"RMSE Voltage Error (pu)\")\n",
    "ax1.set_ylim(0, 0.022)\n",
    "ax1.legend(loc=2)\n",
    "\n",
    "ax2 = ax1.twinx()\n",
    "ax2.plot(bus_list, [pflow_error_list[i] for i in range(20)], '-o', color='C3', label = \"power\")\n",
    "ax2.tick_params('y', colors='C3')\n",
    "ax2.set_ylabel(\"RMSE Power Error (MW)\")\n",
    "ax2.set_ylim(8, 16)\n",
    "ax2.legend(loc=1)\n",
    "\n",
    "plt.xticks(np.arange(12, 32, step=1))\n",
    "ax1.set_xlabel(\"PMU locations\")\n",
    "plt.title(\" Evolution of errors with increase in PMU locations\")\n",
    "ax1.grid()\n",
    "# plt.legend([\"Voltage Error\", \"Power Error\"])\n",
    "# plt.show()\n",
    "plt.savefig(\"Plots/RMSE.pdf\", bbox_inches = \"tight\", format=\"pdf\")"
   ]
  },
  {
   "cell_type": "code",
   "execution_count": 30,
   "metadata": {},
   "outputs": [
    {
     "name": "stdout",
     "output_type": "stream",
     "text": [
      "0.06457099\n"
     ]
    }
   ],
   "source": [
    "_, x_test, _, y_test = train_test_split(X_v, Y_p, test_size=0.2)\n",
    "\n",
    "x_test_scaled = dnn.x_scaler.transform(x_test)\n",
    "\n",
    "yhat = tf.convert_to_tensor(dnn.model.predict(x_test), dtype=tf.float32)\n",
    "y_test = tf.convert_to_tensor(y_test, dtype=tf.float32)\n",
    "\n",
    "\n",
    "bdata = np.genfromtxt(r\"System_data\\bdata.csv\", delimiter=',')\n",
    "A = tf.convert_to_tensor(create_A_array(bdata,118), dtype=tf.float32)\n",
    "B = tf.convert_to_tensor(create_B_array(bdata), dtype=tf.float32)\n",
    "C = tf.convert_to_tensor(create_C_array(bdata, 118), dtype=tf.float32)\n",
    "\n",
    "\n",
    "lengths = [118, 118, 186,186,186,186] # VR, VI, CFR, CFI, CTR, CTI\n",
    "\n",
    "sample_input = yhat\n",
    "vars = tf.split(sample_input, lengths, axis=1)\n",
    "\n",
    "\n",
    "vars_actual = tf.split(y_test, lengths, axis=1)\n",
    "\n",
    "i_error1 = tf.sqrt(tf.reduce_mean((vars[2]-vars_actual[2])**2))\n",
    "i_error2 = tf.sqrt(tf.reduce_mean((vars[3]-vars_actual[3])**2))\n",
    "i_error3 = tf.sqrt(tf.reduce_mean((vars[4]-vars_actual[4])**2))\n",
    "i_error4 = tf.sqrt(tf.reduce_mean((vars[5]-vars_actual[5])**2))\n",
    "\n",
    "print(np.mean([i_error1, i_error2, i_error3, i_error4]))"
   ]
  },
  {
   "cell_type": "code",
   "execution_count": 9,
   "metadata": {},
   "outputs": [],
   "source": [
    "# v_error_list_np = [v_error_list[i].numpy() for i in range(len(v_error_list))]\n",
    "# pflow_error_list_np = [pflow_error_list[i].numpy() for i in range(len(pflow_error_list))]\n",
    "# pinj_error_list_np = [pinj_error_list[i].numpy() for i in range(len(pinj_error_list))]\n",
    "# r2_list_np = [r2_list[i] for i in range(len(r2_list))]\n",
    "\n",
    "# # Creating a DataFrame\n",
    "# data = {\n",
    "#     'V Error': v_error_list_np,\n",
    "#     'PFlow Error': pflow_error_list_np,\n",
    "#     'PInj Error': pinj_error_list_np,\n",
    "#     'R2': r2_list_np\n",
    "# }\n",
    "\n",
    "# df = pd.DataFrame(data)\n",
    "\n",
    "# # Saving to CSV\n",
    "# csv_filename = 'errors_and_r2.csv'\n",
    "# df.to_csv(csv_filename, index=False)"
   ]
  }
 ],
 "metadata": {
  "kernelspec": {
   "display_name": "Python 3",
   "language": "python",
   "name": "python3"
  },
  "language_info": {
   "codemirror_mode": {
    "name": "ipython",
    "version": 3
   },
   "file_extension": ".py",
   "mimetype": "text/x-python",
   "name": "python",
   "nbconvert_exporter": "python",
   "pygments_lexer": "ipython3",
   "version": "3.10.4"
  },
  "orig_nbformat": 4
 },
 "nbformat": 4,
 "nbformat_minor": 2
}
