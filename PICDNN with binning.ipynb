{
 "cells": [
  {
   "cell_type": "markdown",
   "metadata": {},
   "source": [
    "Import headers and scripts"
   ]
  },
  {
   "cell_type": "code",
   "execution_count": 6,
   "metadata": {},
   "outputs": [],
   "source": [
    "from import_data import *\n",
    "from noise_models import *\n",
    "from neural_network_with_bins import *\n",
    "from Branch_flow_xy_split import *\n",
    "# from generate_xy import *\n",
    "import numpy as np\n",
    "import matplotlib.pyplot as plt\n",
    "# from volt_to_p_est import *\n",
    "# from VI_to_P import *\n",
    "# from linear_models import *\n",
    "from feature_bins import std_bins_bflow\n",
    "from IPython.display import clear_output\n",
    "\n",
    "#%% importing single hour imag dataset\n",
    "VM, VA, bflow, Pinj, Qinj, CFM, CFA, CTM, CTA = import_curr_branch_data()"
   ]
  },
  {
   "cell_type": "markdown",
   "metadata": {},
   "source": [
    "Import data, get input- output combo"
   ]
  },
  {
   "cell_type": "code",
   "execution_count": 7,
   "metadata": {},
   "outputs": [],
   "source": [
    "def data(addbus=[]):\n",
    "#%% Getting X and Y \n",
    "    x_vm, x_va, x_cm, x_ca,  ytot = branch_flow_VI_split(bflow, VM, VA, CFM, CFA, CTM, CTA, Pinj, Qinj, num_bus = 11, add_bus = addbus)\n",
    "    #%% Adding noise \n",
    "    x_vm_n = NoisyMag(x_vm)\n",
    "    x_va_n = NoisyAng(x_va)\n",
    "    # bflow_n = noise_gaussian(X, range1, mu1)\n",
    "    # bflow_n = NoisyMag(x_bflow.values)\n",
    "    x_cm_n = NoisyMag(x_cm)\n",
    "    x_ca_n = NoisyAng(x_ca)\n",
    "\n",
    "    # X_p = VI_to_P(x_vm_n, x_va_n, x_cm_n, x_ca_n, num_bus = 11, add_bus = [])\n",
    "    X_v = np.concatenate((x_vm_n, x_va_n, x_cm_n, x_ca_n), axis=1)\n",
    "    Y_p = ytot\n",
    "    return X_v, Y_p"
   ]
  },
  {
   "cell_type": "code",
   "execution_count": 8,
   "metadata": {},
   "outputs": [
    {
     "name": "stdout",
     "output_type": "stream",
     "text": [
      "31.081381882947607 %\n",
      "17.524034549921183 %\n",
      "10.370536515007514 %\n",
      "0.09084412905759946 %\n",
      "0.06117598409355125 %\n"
     ]
    },
    {
     "data": {
      "image/png": "[encoded data removed]",
      "text/plain": [
       "<Figure size 432x288 with 1 Axes>"
      ]
     },
     "metadata": {
      "needs_background": "light"
     },
     "output_type": "display_data"
    }
   ],
   "source": [
    "X,y = data()\n",
    "std_b = [np.std(y[:,i]) for i in range(y.shape[1])]\n",
    "# fig, (ax1, ax2) = plt.subplots(1, 2, figsize=(20,5))\n",
    "# fig.suptitle('Histogram and bus wise std')\n",
    "# ax1.hist(std_b, bins = 5)\n",
    "# ax2.bar(np.arange(y.shape[1])+1, sorted(std_b))\n",
    "branch_list = std_bins_bflow(std_b, 5)"
   ]
  },
  {
   "cell_type": "markdown",
   "metadata": {},
   "source": [
    "Network 1: V_I input, V output \n",
    "Checking Power injection error"
   ]
  },
  {
   "cell_type": "code",
   "execution_count": 9,
   "metadata": {},
   "outputs": [
    {
     "data": {
      "text/plain": [
       "4.904326338732083"
      ]
     },
     "execution_count": 9,
     "metadata": {},
     "output_type": "execute_result"
    }
   ],
   "source": [
    "X_v, Y_p = data()\n",
    "dnn = Deep_Network(layers=3, nodes=int(X_v.shape[1]*1.1), lr = 1e-3, epoch = 100,\n",
    "                   batch_norm = True, dropout = 0, branch_list=branch_list)\n",
    "\n",
    "# dnn.y_normalise = True\n",
    "mse, mape, r2 = dnn.model_parse(X_v,Y_p,Pinj, Qinj, ntest=1)\n",
    "clear_output()\n",
    "np.mean(np.sqrt(mse))"
   ]
  },
  {
   "cell_type": "code",
   "execution_count": 20,
   "metadata": {},
   "outputs": [
    {
     "data": {
      "text/plain": [
       "7.456605569640155"
      ]
     },
     "execution_count": 20,
     "metadata": {},
     "output_type": "execute_result"
    }
   ],
   "source": [
    "np.mean(np.sqrt(mse[0][186*2+1:]))\n",
    "# np.mean(r2)"
   ]
  },
  {
   "cell_type": "code",
   "execution_count": null,
   "metadata": {},
   "outputs": [],
   "source": [
    "# # no need of this for now\n",
    "\n",
    "# best_buses = [15, 104, 14, 49, 74, 106, 34, 88, 67, 92, 17, 27, 33, 98, 108, 60, 4, 11, 50, 41]\n",
    "# bb2 = [100, 77, 59, 12, 40, 89, 49, 15, 80, 32, 75, 62, 110, 34, 94, 56, 85, 3, 19, 29, 45]\n",
    "# rmse_full = []\n",
    "\n",
    "# for i in range(1):\n",
    "#     ad_bus = bb2[:len(best_buses)+1]\n",
    "#     X, y = data(ad_bus)\n",
    "#     dnn = Deep_Network(layers=3, nodes=int(X_v.shape[1]*1.25), lr = 3e-4, epoch = 200,\n",
    "#                    batch_norm = False, dropout = 0, branch_list=branch_list)\n",
    "#     mse, mape, r2 = dnn.model_parse(X,y,Pinj, Qinj, ntest=1)\n",
    "    \n",
    "#     rmse_full.append(np.mean(np.sqrt(mse)))\n",
    "#     print('iteration', i, ' RMSE = ', rmse_full[-1])"
   ]
  }
 ],
 "metadata": {
  "kernelspec": {
   "display_name": "Python 3.10.4 64-bit",
   "language": "python",
   "name": "python3"
  },
  "language_info": {
   "codemirror_mode": {
    "name": "ipython",
    "version": 3
   },
   "file_extension": ".py",
   "mimetype": "text/x-python",
   "name": "python",
   "nbconvert_exporter": "python",
   "pygments_lexer": "ipython3",
   "version": "3.10.4"
  },
  "orig_nbformat": 4,
  "vscode": {
   "interpreter": {
    "hash": "3f68dd0345951f0cf8ba50f1a3a6916c07782ad147069f612168b176ca281376"
   }
  }
 },
 "nbformat": 4,
 "nbformat_minor": 2
}
